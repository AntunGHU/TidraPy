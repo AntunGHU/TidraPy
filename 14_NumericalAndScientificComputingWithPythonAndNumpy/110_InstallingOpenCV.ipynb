{
 "cells": [
  {
   "cell_type": "code",
   "execution_count": null,
   "metadata": {},
   "outputs": [],
   "source": [
    "# In the next lecture, and in Section 17, we will use the OpenCV image processing library. Let us first # make sure you have installed the OpenCV library. OpenCV is also referred to as cv2 in Python.\n",
    "#! How to Install OpenCV\n",
    "# To install OpenCV for Python 3.9 on Mac or Linux, execute the following in the terminal:\n",
    "#? python3.9 -m pip install opencv-python\n",
    "# To install OpenCV for Python 3.9 on Windows, execute the following in the terminal:\n",
    "#? py -3.9 -m pip install opencv-python \n",
    "# Note: The above commands work for Python 3.9. You may need to replace the 3.9 part from the commands # with the number of the Python version you are using in your system. For example, you may need to type # python3.10 instead of python3.9.\n",
    "#! Once the installation completes, open a Python session and try:\n",
    "#? import cv2  \n",
    "# If you get no errors, you installed OpenCV successfully. If you get an error, see the FAQs below:\n",
    "#! FAQs\n",
    "#ToDo 1. My OpenCV installation didn't work on Windows \n",
    "# Solution: \n",
    "# 1. Uninstall OpenCV with:\n",
    "#? py -3.9 -m pip uninstall opencv-python\n",
    "# 2. Download a wheel (.whl) file from this link and install the file with pip. Make sure you download # the correct file for your Windows and your Python versions. For example, for Python 3.6 on Windows # 64-bit, you would do this:\n",
    "#? py -3.9 -m pip install opencv_python‑3.2.0‑cp39‑cp39m‑win_amd64.whl  \n",
    "# 3. Try to import cv2 in Python again. If there's still an error, type the following again in the # command line: \n",
    "#? py -3.9 -m pip install opencv-python \n",
    "# 4. Try importing cv2 again. It should work at this point. \n",
    "#ToDo 2. My OpenCV installation didn't work on Mac\n",
    "# Solution:\n",
    "# If python3.9 -m pip install opencv-python here are alternative steps to install OpenCV:\n",
    "# 1. Install brew. \n",
    "# To install brew, open your terminal, and execute the following:\n",
    "#? /usr/bin/ruby -e \"$(curl -fsSL https://raw.githubusercontent.com/Homebrew/install/master/install)\"\n",
    "# 2. OpenCV depends on GTK+, so install that dependency first with brew (always from the terminal):\n",
    "#? brew install gtk+ \n",
    "# 3. Install OpenCV with brew:\n",
    "#? brew install opencv \n",
    "# 4. Open Python and try to import OpenCV with:\n",
    "#? import cv2 \n",
    "# If you get no errors, you installed OpenCV successfully.\n",
    "#ToDo 3. My OpenCV installation didn't work on Linux\n",
    "# 1. Open your terminal and execute the following commands, one by one:\n",
    "#? sudo apt-get install libqt4-dev\n",
    "#? cmake -D WITH_QT=ON ..\n",
    "#? make\n",
    "#? sudo make install\n",
    "# 2. If the above commands don't work, execute this: \n",
    "#? sudo apt-get install libopencv-*\n",
    "# 3. Then, install OpenCV with pip:\n",
    "#? python3.9 -m pip install opencv-python  \n",
    "# 4. Import cv2 in Python. If you get no errors, you installed OpenCV successfully."
   ]
  }
 ],
 "metadata": {
  "language_info": {
   "name": "python"
  },
  "orig_nbformat": 4
 },
 "nbformat": 4,
 "nbformat_minor": 2
}
