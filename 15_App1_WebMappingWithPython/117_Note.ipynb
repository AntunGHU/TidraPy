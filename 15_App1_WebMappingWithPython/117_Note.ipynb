{
 "cells": [
  {
   "cell_type": "code",
   "execution_count": null,
   "metadata": {},
   "outputs": [],
   "source": [
    "# In the next lecture, I use this in the code:\n",
    "# tiles = \"Mapbox Bright\"\n",
    "# Please use this instead:\n",
    "#?  tiles = \"Stamen Terrain\"\n",
    "# Mapbox Bright and Stamen Terrain are both types of base maps, but Mapbox Bright doesn't work anymore. Stamen Terrain works great, and you will see it creates a beautiful terrain map."
   ]
  }
 ],
 "metadata": {
  "language_info": {
   "name": "python"
  },
  "orig_nbformat": 4
 },
 "nbformat": 4,
 "nbformat_minor": 2
}
