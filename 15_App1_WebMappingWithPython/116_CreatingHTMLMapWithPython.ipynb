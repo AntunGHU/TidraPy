{
 "cells": [
  {
   "cell_type": "code",
   "execution_count": null,
   "metadata": {},
   "outputs": [],
   "source": [
    "# Instaliramo folium na pocetku s\n",
    "#? pip install folium\n",
    "# ili\n",
    "#? pip3 install folium\n",
    "# ar se prije pozicionirao u mapping mapu a ja u Tidra\n",
    "# ipak, posto on kreira HTML u terminalu i ja sam se prebacio u mapu 15_... i kao i on radim dalje u termu\n",
    "# malo pokaza sa #? >>>dir(folium) >>>help(folium) >>>help(folium.Map)\n",
    "# dakle, folium je py-veza sa JS,HTML,CSS kojom on stvara web-page, sljedecom k-dom\n",
    "#? >>> map=folium.Map(location=[80,-100])\n",
    "#? >>>map   # <folium.folium.Map object at 0x7fdf6b2ae8b0>\n",
    "# Sledi pretvorba py-objekta iz RAM-a u stvarni objekt s k-dom\n",
    "#? >>> map.save(\"Map1.html\")\n",
    "# I u nasoj mapi 15_... pojavio se fajl Map1.html. Klikamo i browsamo! Karta svjeta s pocetkom u Canada!\n",
    "# Ako zelimo start u drugim koordinatama, pronalazenje tocnih preko\n",
    "#? maps.google.com\n",
    "# sto nam otvara kartu u cijem produzetku se pojavljuju koordinate https://www.google.com/maps/@45.7666918,15.7718759,15z\n",
    "# za pojedini objekt \"What's here\" ili \"Sta je ovdje\" dk-opcija daje samo lon i lat. Klik na njih formira crvenu tocku na koju klik opet daje kordinate pa klik sprema u clipboard!\n",
    "# imajuci to sve sam ponovio i dobio mapu koja se otvara u zagrebu!!!\n",
    "#? >>> map=folium.Map(location=[80,-100], zoom_start=6)"
   ]
  }
 ],
 "metadata": {
  "language_info": {
   "name": "python"
  },
  "orig_nbformat": 4
 },
 "nbformat": 4,
 "nbformat_minor": 2
}
