{
 "cells": [
  {
   "cell_type": "code",
   "execution_count": null,
   "metadata": {},
   "outputs": [],
   "source": [
    "import pandas   # video 2015. i py 3.5\n",
    "df1=pandas.DataFrame([2,4,6], [10,20,30,])\n",
    "df1\n",
    "\n"
   ]
  },
  {
   "cell_type": "code",
   "execution_count": null,
   "metadata": {},
   "outputs": [],
   "source": [
    "import pandas\n",
    "# df1=pandas.DataFrame([2,4,6], [10,20,30,], columns=[\"v\", \"s\", \"d\"], index=[\"1\", \"2\"])\n",
    "type(df1)"
   ]
  },
  {
   "cell_type": "code",
   "execution_count": null,
   "metadata": {},
   "outputs": [],
   "source": [
    "df2=pandas.DataFrame([{\"Ime\":\"Ante\", \"Prez\":\"Jerak\"}, {\"Ime\":\"Bare\",\"Prez\":\"Derak\"}])\n",
    "print(type(df2))\n",
    "print(dir(df2))\n",
    "df2.mean()  # samo pokusavam sve zapisati iz A filma\n",
    "df2"
   ]
  }
 ],
 "metadata": {
  "kernelspec": {
   "display_name": "Python 3.8.10 64-bit",
   "language": "python",
   "name": "python3"
  },
  "language_info": {
   "codemirror_mode": {
    "name": "ipython",
    "version": 3
   },
   "file_extension": ".py",
   "mimetype": "text/x-python",
   "name": "python",
   "nbconvert_exporter": "python",
   "pygments_lexer": "ipython3",
   "version": "3.8.10"
  },
  "vscode": {
   "interpreter": {
    "hash": "916dbcbb3f70747c44a77c7bcd40155683ae19c65e1c03b4aa3499c5328201f1"
   }
  }
 },
 "nbformat": 4,
 "nbformat_minor": 2
}
