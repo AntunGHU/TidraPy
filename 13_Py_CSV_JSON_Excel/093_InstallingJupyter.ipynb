{
 "cells": [
  {
   "cell_type": "code",
   "execution_count": 3,
   "metadata": {},
   "outputs": [
    {
     "name": "stdout",
     "output_type": "stream",
     "text": [
      "1\n",
      "2\n"
     ]
    }
   ],
   "source": [
    "# In the next videos, we will use Jupyter Notebook is a third-party library. Please install Jupyter # Notebook by executing one of the commands below:\n",
    "# \n",
    "# Installing Jupyter\n",
    "# \n",
    "# pip3.10 install jupyter\n",
    "# \n",
    "# or\n",
    "# \n",
    "# pip3.9 install jupyter\n",
    "# \n",
    "# or\n",
    "# \n",
    "# pip3.8 install jupyter\n",
    "# \n",
    "# Please change the number after pip to reflect the version of Python you are using.\n",
    "# \n",
    "# Starting Jupyter\n",
    "# \n",
    "# After a successful installation you can start Jupyter Notebook by running the command below from your # terminal:\n",
    "# \n",
    "# jupyter notebook\n",
    "# \n",
    "# If the above command does not work try the following command:\n",
    "# \n",
    "# py -3.9 -m jupyter notebook (for Windows users)\n",
    "# \n",
    "# python3.9 -m jupyter notebook  (for Mac and Linux users)\n",
    "# \n",
    "# If it works, you will see Jupyter Notebook opened up in your default internet browser.\n",
    "# \n",
    "# Jupyter in the cloud\n",
    "# \n",
    "# If you do not want to install Jupyter or you cannot install it, you can use Jupyter in the cloud. Google # offers a ready-to-use Jupyter notebook here: https://colab.research.google.com/#create=true\n",
    "\n",
    "\n"
   ]
  }
 ],
 "metadata": {
  "kernelspec": {
   "display_name": "Python 3.8.10 64-bit",
   "language": "python",
   "name": "python3"
  },
  "language_info": {
   "codemirror_mode": {
    "name": "ipython",
    "version": 3
   },
   "file_extension": ".py",
   "mimetype": "text/x-python",
   "name": "python",
   "nbconvert_exporter": "python",
   "pygments_lexer": "ipython3",
   "version": "3.8.10"
  },
  "vscode": {
   "interpreter": {
    "hash": "916dbcbb3f70747c44a77c7bcd40155683ae19c65e1c03b4aa3499c5328201f1"
   }
  }
 },
 "nbformat": 4,
 "nbformat_minor": 2
}
