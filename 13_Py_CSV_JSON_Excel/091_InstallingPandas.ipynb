{
 "cells": [
  {
   "cell_type": "code",
   "execution_count": null,
   "metadata": {},
   "outputs": [],
   "source": [
    "# Please make sure you have pandas installed. You can install it with pip from your computer or Atom/VS # Code terminal/cmd just like you have installed other third-party packages. Please execute one of the # commands below to do the installation depending on what version of Python you are using: \n",
    "# pip3.10 install pandas\n",
    "# or\n",
    "# pip3.9 install pandas \n",
    "# or\n",
    "# pip3.8 install pandas\n",
    "# etc. \n",
    "# Also, in the next lecture, we will use an enhanced Python interactive shell called IPython.\n",
    "# IPython is just like the standard shell you get when you run Python, but IPython provides better # printing for large text. This ability makes IPython suitable for data analysis because the program # prints data in a well-structured format. You can install IPython with pip:\n",
    "# pip3.10 install ipython\n",
    "# or\n",
    "# pip3.9 install ipython\n",
    "# or\n",
    "# pip3.8 install ipython"
   ]
  }
 ],
 "metadata": {
  "kernelspec": {
   "display_name": "Python 3.8.10 64-bit",
   "language": "python",
   "name": "python3"
  },
  "language_info": {
   "codemirror_mode": {
    "name": "ipython",
    "version": 3
   },
   "file_extension": ".py",
   "mimetype": "text/x-python",
   "name": "python",
   "nbconvert_exporter": "python",
   "pygments_lexer": "ipython3",
   "version": "3.8.10"
  },
  "vscode": {
   "interpreter": {
    "hash": "916dbcbb3f70747c44a77c7bcd40155683ae19c65e1c03b4aa3499c5328201f1"
   }
  }
 },
 "nbformat": 4,
 "nbformat_minor": 2
}
