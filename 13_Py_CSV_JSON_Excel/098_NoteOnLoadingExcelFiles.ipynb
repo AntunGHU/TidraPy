{
 "cells": [
  {
   "cell_type": "code",
   "execution_count": 3,
   "metadata": {},
   "outputs": [
    {
     "data": {
      "text/plain": [
       "['supermarkets.json',\n",
       " 'supermarkets-semi-colons.txt',\n",
       " '090_pandas_DataAnalysisLibrary.ipynb',\n",
       " '092_GettingStartedWithPandas.ipynb',\n",
       " 'supermarkets-commas.txt',\n",
       " '.ipynb_checkpoints',\n",
       " '094_GettingStartedWithJupyter.ipynb',\n",
       " '096_Ex_LoadingJSONFiles.ipynb',\n",
       " '095 supermarkets',\n",
       " 'supermarkets-commas.csv',\n",
       " '091_InstallingPandas.ipynb',\n",
       " 'supermarkets.xlsx',\n",
       " '093_InstallingJupyter.ipynb',\n",
       " '095_LoadingCSVFiles.ipynb',\n",
       " '097_Solution_LoadingJSONFiles.ipynb',\n",
       " 'supermarkets.csv']"
      ]
     },
     "execution_count": 3,
     "metadata": {},
     "output_type": "execute_result"
    }
   ],
   "source": [
    "import pandas\n",
    "import os\n",
    "os.listdir()"
   ]
  },
  {
   "cell_type": "code",
   "execution_count": null,
   "metadata": {},
   "outputs": [],
   "source": [
    "# In the next lecture, you will learn how to load Excel files in Python with pandas. For this, you need # pandas (which you have already installed) and also two other dependencies that pandas needs for opening # Excel files. You can install them with pip:\n",
    "# pip3.9 install openpyxl (needed to load Excel .xlsx files)\n",
    "# pip3.9 install xlrd (needed to load Excel old .xls files)\n"
   ]
  }
 ],
 "metadata": {
  "kernelspec": {
   "display_name": "Python 3.8.10 64-bit",
   "language": "python",
   "name": "python3"
  },
  "language_info": {
   "codemirror_mode": {
    "name": "ipython",
    "version": 3
   },
   "file_extension": ".py",
   "mimetype": "text/x-python",
   "name": "python",
   "nbconvert_exporter": "python",
   "pygments_lexer": "ipython3",
   "version": "3.8.10"
  },
  "vscode": {
   "interpreter": {
    "hash": "916dbcbb3f70747c44a77c7bcd40155683ae19c65e1c03b4aa3499c5328201f1"
   }
  }
 },
 "nbformat": 4,
 "nbformat_minor": 2
}
