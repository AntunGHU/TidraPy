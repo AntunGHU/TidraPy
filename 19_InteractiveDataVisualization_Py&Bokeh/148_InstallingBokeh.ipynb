{
 "cells": [
  {
   "cell_type": "code",
   "execution_count": null,
   "metadata": {},
   "outputs": [],
   "source": [
    "# If you haven't installed Bokeh yet, you can easily install it with pip from the terminal:\n",
    "pip install bokeh \n",
    "# Or you use pip3:\n",
    "pip3 install bokeh "
   ]
  }
 ],
 "metadata": {
  "language_info": {
   "name": "python"
  },
  "orig_nbformat": 4
 },
 "nbformat": 4,
 "nbformat_minor": 2
}
