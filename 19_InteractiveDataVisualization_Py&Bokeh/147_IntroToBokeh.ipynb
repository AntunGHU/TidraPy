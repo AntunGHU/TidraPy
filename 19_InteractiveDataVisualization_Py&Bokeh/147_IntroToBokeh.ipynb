{
 "cells": [
  {
   "cell_type": "code",
   "execution_count": null,
   "metadata": {},
   "outputs": [],
   "source": [
    "# # 2'02''\n",
    "# Nova library za grabljenje podataka iz raznih izvora: csv, py-list, json itd. i kreira ljepe grafove u browseru. Ardit prije koristio Mathplotlied i XX ali bokeh je moderniji i bolji!"
   ]
  }
 ],
 "metadata": {
  "language_info": {
   "name": "python"
  },
  "orig_nbformat": 4
 },
 "nbformat": 4,
 "nbformat_minor": 2
}
