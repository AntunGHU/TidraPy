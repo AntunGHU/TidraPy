{
 "cells": [
  {
   "cell_type": "code",
   "execution_count": null,
   "metadata": {},
   "outputs": [],
   "source": [
    "# In the next lecture, you will learn how to load Excel files in Python with pandas. For this, you need pandas (which you have already # installed) and also two other dependencies that pandas needs for opening Excel files. You can install them with pip:\n",
    "# \n",
    "#? pip3.9 install openpyxl (needed to load Excel .xlsx files)\n",
    "# \n",
    "#? pip3.9 install xlrd (needed to load Excel old .xls files)"
   ]
  }
 ],
 "metadata": {
  "language_info": {
   "name": "python"
  },
  "orig_nbformat": 4
 },
 "nbformat": 4,
 "nbformat_minor": 2
}
