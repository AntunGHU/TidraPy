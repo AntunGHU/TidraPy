{
 "cells": [
  {
   "cell_type": "code",
   "execution_count": 1,
   "metadata": {},
   "outputs": [],
   "source": [
    "# The following line graph shows the percentage of women who have received a bachelor's degree over the years in the USA. The graph was # produced from the Year  and Engineering columns of the CSV file provided in the following link:\n",
    "# https://pythonizing.github.io/data/bachelors.csv\n",
    "# Try to reproduce the graph using Bokeh.\n",
    "\n",
    "#Plotting percentage of women who received an engineering degree over years\n",
    "#importing bokeh and pandas\n",
    "from bokeh.plotting import figure\n",
    "from bokeh.io import output_file, show\n",
    "import pandas\n",
    "#prepare some data\n",
    "df=pandas.read_csv(\"https://pythonizing.github.io/data/bachelors.csv\")\n",
    "x=df[\"Year\"]\n",
    "y=df[\"Engineering\"]\n",
    "#prepare the output file\n",
    "output_file(\"Line_from_bachelors.html\")\n",
    "#create a figure object\n",
    "f=figure()\n",
    "#create line plot\n",
    "f.line(x,y)\n",
    "#write the plot in the figure object\n",
    "show(f)\n",
    "\n"
   ]
  }
 ],
 "metadata": {
  "kernelspec": {
   "display_name": "Python 3.8.10 64-bit",
   "language": "python",
   "name": "python3"
  },
  "language_info": {
   "codemirror_mode": {
    "name": "ipython",
    "version": 3
   },
   "file_extension": ".py",
   "mimetype": "text/x-python",
   "name": "python",
   "nbconvert_exporter": "python",
   "pygments_lexer": "ipython3",
   "version": "3.8.10"
  },
  "orig_nbformat": 4,
  "vscode": {
   "interpreter": {
    "hash": "916dbcbb3f70747c44a77c7bcd40155683ae19c65e1c03b4aa3499c5328201f1"
   }
  }
 },
 "nbformat": 4,
 "nbformat_minor": 2
}
