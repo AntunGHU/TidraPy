{
 "cells": [
  {
   "cell_type": "code",
   "execution_count": 1,
   "metadata": {},
   "outputs": [],
   "source": [
    "# Ovdje drugo rjesenje: dajem ime Circle.html\n",
    "#Snippet producing the circle based plot\n",
    "\n",
    "#Making a basic Bokeh line graph\n",
    "#importing Bokeh\n",
    "from bokeh.plotting import figure\n",
    "from bokeh.io import output_file, show\n",
    "#prepare some data\n",
    "x=[3,7.5,10]\n",
    "y=[3,6,9]\n",
    "#prepare the output file\n",
    "output_file(\"Circle.html\")\n",
    "#create a figure object\n",
    "f=figure()\n",
    "#create line plot\n",
    "f.circle(x,y)\n",
    "#write the plot in the figure object\n",
    "show(f)"
   ]
  }
 ],
 "metadata": {
  "kernelspec": {
   "display_name": "Python 3.8.10 64-bit",
   "language": "python",
   "name": "python3"
  },
  "language_info": {
   "codemirror_mode": {
    "name": "ipython",
    "version": 3
   },
   "file_extension": ".py",
   "mimetype": "text/x-python",
   "name": "python",
   "nbconvert_exporter": "python",
   "pygments_lexer": "ipython3",
   "version": "3.8.10"
  },
  "orig_nbformat": 4,
  "vscode": {
   "interpreter": {
    "hash": "916dbcbb3f70747c44a77c7bcd40155683ae19c65e1c03b4aa3499c5328201f1"
   }
  }
 },
 "nbformat": 4,
 "nbformat_minor": 2
}
